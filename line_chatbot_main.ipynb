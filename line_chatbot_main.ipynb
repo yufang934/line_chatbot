{
  "nbformat": 4,
  "nbformat_minor": 0,
  "metadata": {
    "colab": {
      "name": "line_chatbot_main.ipynb",
      "provenance": [],
      "collapsed_sections": [],
      "authorship_tag": "ABX9TyObIgdelpTq+q3A5wQFn4/L",
      "include_colab_link": true
    },
    "kernelspec": {
      "name": "python3",
      "display_name": "Python 3"
    }
  },
  "cells": [
    {
      "cell_type": "markdown",
      "metadata": {
        "id": "view-in-github",
        "colab_type": "text"
      },
      "source": [
        "<a href=\"https://colab.research.google.com/github/yufang934/line_chatbot/blob/main/line_chatbot_main.ipynb\" target=\"_parent\"><img src=\"https://colab.research.google.com/assets/colab-badge.svg\" alt=\"Open In Colab\"/></a>"
      ]
    },
    {
      "cell_type": "code",
      "metadata": {
        "id": "8nThlvFbhJk0"
      },
      "source": [
        "from flask import Flask, request, abort\n",
        "from linebot import (LineBotApi, WebhookHandler)\n",
        "from linebot.exceptions import (InvalidSignatureError)\n",
        "from linebot.models import (MessageEvent, TextMessage, TextSendMessage,)\n",
        "from urllib.request import urlopen\n",
        "from bs4 import BeautifulSoup\n",
        "import json\n",
        "import os\n",
        "from linebot.models import RichMenu\n",
        "import requests\n",
        "import random"
      ],
      "execution_count": null,
      "outputs": []
    },
    {
      "cell_type": "code",
      "metadata": {
        "id": "oCAFPzzfo5ot"
      },
      "source": [
        "#伺服器準備\n",
        "app = Flask(__name__)\n",
        "\n",
        "line_bot_api = LineBotApi('Your Channel access token')\n",
        "handler = WebhookHandler('Your_Channel_secret ')"
      ],
      "execution_count": null,
      "outputs": []
    },
    {
      "cell_type": "code",
      "metadata": {
        "id": "iZGYknVpqY-u"
      },
      "source": [
        "#當line封包來，做驗證\n",
        "@app.route(\"/\", methods=['POST'])\n",
        "def callback():\n",
        "    # get X-Line-Signature header value\n",
        "    signature = request.headers['X-Line-Signature']\n",
        "\n",
        "    # get request body as text\n",
        "    body = request.get_data(as_text=True)\n",
        "    app.logger.info(\"Request body: \" + body)\n",
        "\n",
        "    # handle webhook body\n",
        "    try:\n",
        "        handler.handle(body, signature)\n",
        "    except InvalidSignatureError:\n",
        "        print(\"Invalid signature. Please check your channel access token/channel secret.\")\n",
        "        abort(400)\n",
        "\n",
        "    return 'OK'"
      ],
      "execution_count": null,
      "outputs": []
    },
    {
      "cell_type": "code",
      "metadata": {
        "id": "ZH73xX0UqalW"
      },
      "source": [
        "'''\n",
        "\n",
        "消息判斷器\n",
        "\n",
        "讀取指定的json檔案後，把json解析成不同格式的SendMessage\n",
        "\n",
        "讀取檔案，\n",
        "把內容轉換成json\n",
        "將json轉換成消息\n",
        "放回array中，並把array傳出。\n",
        "\n",
        "'''\n",
        "\n",
        "# 引用會用到的套件\n",
        "from linebot.models import (\n",
        "    ImagemapSendMessage, TextSendMessage, ImageSendMessage, LocationSendMessage, FlexSendMessage, VideoSendMessage, StickerSendMessage, AudioSendMessage\n",
        ")\n",
        "from linebot.models.template import (\n",
        "    ButtonsTemplate, CarouselTemplate, ConfirmTemplate, ImageCarouselTemplate\n",
        ")\n",
        "\n",
        "from linebot.models.template import *\n",
        "import json\n",
        "\n",
        "def detect_json_array_to_new_message_array(fileName):\n",
        "    # 開啟檔案，轉成json\n",
        "    with open(fileName,encoding=\"utf8\") as f:\n",
        "        jsonArray = json.load(f)\n",
        "    # 解析json\n",
        "    returnArray = []\n",
        "    for jsonObject in jsonArray:\n",
        "        # 讀取其用來判斷的元件\n",
        "        message_type = jsonObject.get('type')\n",
        "\n",
        "        # 轉換\n",
        "        if message_type == 'text':\n",
        "            returnArray.append(TextSendMessage.new_from_json_dict(jsonObject))\n",
        "        elif message_type == 'imagemap':\n",
        "            returnArray.append(ImagemapSendMessage.new_from_json_dict(jsonObject))\n",
        "        elif message_type == 'template':\n",
        "            returnArray.append(TemplateSendMessage.new_from_json_dict(jsonObject))\n",
        "        elif message_type == 'image':\n",
        "            returnArray.append(ImageSendMessage.new_from_json_dict(jsonObject))\n",
        "        elif message_type == 'sticker':\n",
        "            returnArray.append(StickerSendMessage.new_from_json_dict(jsonObject))\n",
        "        elif message_type == 'audio':\n",
        "            returnArray.append(AudioSendMessage.new_from_json_dict(jsonObject))\n",
        "        elif message_type == 'location':\n",
        "            returnArray.append(LocationSendMessage.new_from_json_dict(jsonObject))\n",
        "        elif message_type == 'flex':\n",
        "            returnArray.append(FlexSendMessage.new_from_json_dict(jsonObject))\n",
        "        elif message_type == 'video':\n",
        "            returnArray.append(VideoSendMessage.new_from_json_dict(jsonObject))\n",
        "\n",
        "            # 回傳\n",
        "    return returnArray"
      ],
      "execution_count": null,
      "outputs": []
    },
    {
      "cell_type": "code",
      "metadata": {
        "id": "VyijLU0lqhCW"
      },
      "source": [
        "'''\n",
        "\n",
        "handler處理關注消息\n",
        "\n",
        "用戶關注時，讀取 素材 -> 關注 -> reply.json\n",
        "\n",
        "將其轉換成可寄發的消息，傳回給Line\n",
        "\n",
        "'''\n",
        "\n",
        "\n",
        "@handler.add(MessageEvent,message=TextMessage)\n",
        "def process_text_message(event):\n",
        "    #判斷是否為json檔，如果是就解讀取並回傳檔案內容；若不是，則打開txt檔\n",
        "    A=os.path.exists(\"material/\"+event.message.text+\"/reply.json\")\n",
        "    B=os.path.exists(\"material/12stars/\"+event.message.text+\"/reply.txt\")\n",
        "    C=os.path.exists(\"material/\"+event.message.text+\"/reply.txt\")\n",
        "    D=os.path.exists(\"material/今日穿搭推薦/\"+event.message.text+\"/1.txt\")\n",
        "    if A==True:\n",
        "        # 讀取json檔並轉換\n",
        "        result_message_array = []\n",
        "        replyJsonPath = \"material/\"+event.message.text+\"/reply.json\"\n",
        "        result_message_array = detect_json_array_to_new_message_array(replyJsonPath)\n",
        "\n",
        "        # 消息發送\n",
        "        line_bot_api.reply_message(\n",
        "            event.reply_token,\n",
        "            result_message_array\n",
        "        )\n",
        "    # 星座運勢：當用戶點選某星座，將資料爬下來並存入檔案中\n",
        "    elif B==True:\n",
        "        a=event.message.text\n",
        "        f = open(\"material/12stars/\" + event.message.text + \"/reply.txt\",\"w\", encoding=\"utf-8\")\n",
        "        f.write(str(star_crawler_Capricorn(a)))\n",
        "        f.close()\n",
        "        readd=open(\"material/12stars/\" + event.message.text + \"/reply.txt\",\"r\", encoding=\"utf-8\")\n",
        "        lines = readd.read()\n",
        "        readd.close()\n",
        "        # 消息發送\n",
        "        line_bot_api.reply_message(\n",
        "            event.reply_token,\n",
        "            TextSendMessage(lines)\n",
        "        )\n",
        "    #負能量語錄\n",
        "    elif C==True:\n",
        "        f = open(\"material/\" + event.message.text + \"/reply.txt\", encoding=\"utf-8\")\n",
        "        line = f.readlines()\n",
        "        randomint=random.randint(0, 48)\n",
        "        random_line = line[randomint]\n",
        "        # 消息發送\n",
        "        line_bot_api.reply_message(\n",
        "            event.reply_token,\n",
        "            TextSendMessage(random_line)\n",
        "        )\n",
        "    #穿搭推薦\n",
        "    elif D==True:\n",
        "        f=open(\"material/今日穿搭推薦/\"+event.message.text+\"/1.txt\")\n",
        "        line=f.readlines()\n",
        "        randomint=random.randint(1,280)\n",
        "        random_line=line[randomint]\n",
        "        #消息發送\n",
        "        #需要圖片的url\n",
        "        image_message = ImageSendMessage(\n",
        "            original_content_url=random_line,\n",
        "            preview_image_url=random_line\n",
        "        )\n",
        "\n",
        "        line_bot_api.reply_message(\n",
        "            event.reply_token,\n",
        "            image_message\n",
        "        )\n"
      ],
      "execution_count": null,
      "outputs": []
    },
    {
      "cell_type": "code",
      "metadata": {
        "id": "tvOGj78Pqm0p"
      },
      "source": [
        "'''\n",
        "用戶關注\n",
        "\n",
        "引用關注事件的套件\n",
        "用戶關注，發送圖片和訊息\n",
        "'''\n",
        "from linebot.models import FollowEvent\n",
        "\n",
        "@handler.add(FollowEvent)\n",
        "def handle_follow_event(event):\n",
        "\n",
        "    # 取出消息內User的資料\n",
        "    profile = line_bot_api.get_profile(event.source.user_id)\n",
        "    # 選單功能json檔載入\n",
        "    menuJson = json.load(open('material/menu/menu.json', 'r', encoding='utf-8'))\n",
        "    lineRichMenuId = line_bot_api.create_rich_menu(rich_menu=RichMenu.new_from_json_dict(menuJson))\n",
        "    print(lineRichMenuId)\n",
        "    # 選單圖片\n",
        "    uploadImageFile = open('images/menu.png', 'rb')\n",
        "    setImageResponse = line_bot_api.set_rich_menu_image(lineRichMenuId, 'image/png', uploadImageFile)\n",
        "    # 將圖片綁定給用戶\n",
        "    linkResult = line_bot_api.link_rich_menu_to_user(profile.user_id, lineRichMenuId)"
      ],
      "execution_count": null,
      "outputs": []
    },
    {
      "cell_type": "code",
      "metadata": {
        "id": "PRjboPKXqqT-"
      },
      "source": [
        "#星座運勢爬蟲\n",
        "def star_crawler_Capricorn(a):\n",
        "    stardict = {\"Aries\": \"牡羊座\", \"Leo\": \"獅子座\", \"Sagittarius\": \"射手座\", \"Taurus\": \"金牛座\", \"Virgo\": \"處女座\", \"Capricorn\": \"摩羯座\",\n",
        "                \"Gemini\": \"雙子座\", \"Libra\": \"天秤座\", \"Aquarius\": \"水瓶座\", \"Cancer\": \"巨蠍座\", \"Scorpio\": \"天蠍座\", \"Pisces\": \"雙魚座\"}\n",
        "    stardict1 = {\"牡羊座\": \"Aries\", \"獅子座\": \"Leo\", \"射手座\": \"Sagittarius\", \"金牛座\": \"Taurus\", \"處女座\": \"Virgo\", \"摩羯座\": \"Capricorn\",\n",
        "                \"雙子座\": \"Gemini\", \"天秤座\": \"Libra\", \"水瓶座\": \"Aquarius\", \"巨蠍座\": \"Cancer\", \"天蠍座\": \"Scorpio\", \"雙魚座\": \"Pisces\"}\n",
        "    starlist = [\"Aries\", \"Leo\", \"Sagittarius\", \"Taurus\", \"Virgo\", \"Capricorn\", \"Gemini\", \"Libra\", \"Aquarius\", \"Cancer\",\n",
        "                \"Scorpio\", \"Pisces\"]\n",
        "    url = \"https://www.daily-zodiac.com/mobile/zodiac/\"+stardict1[a]\n",
        "    response = urlopen(url)\n",
        "    html = BeautifulSoup(response)\n",
        "    r = html.find(\"div\", class_=\"text\")\n",
        "    contents = r.find(\"article\")\n",
        "    con = contents.text.strip()\n",
        "    all = a + \":\" + con\n",
        "    return all"
      ],
      "execution_count": null,
      "outputs": []
    },
    {
      "cell_type": "code",
      "metadata": {
        "id": "l7tWjXZQquT8"
      },
      "source": [
        "if __name__ == \"__main__\":\n",
        "    #app.run()\n",
        "    app.run(host='0.0.0.0',port=os.environ['PORT'])"
      ],
      "execution_count": null,
      "outputs": []
    }
  ]
}